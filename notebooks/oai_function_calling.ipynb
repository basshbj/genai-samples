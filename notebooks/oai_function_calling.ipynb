{
 "cells": [
  {
   "cell_type": "code",
   "execution_count": 1,
   "metadata": {},
   "outputs": [],
   "source": [
    "# %pip install -q openai python-dotenv"
   ]
  },
  {
   "cell_type": "markdown",
   "metadata": {},
   "source": [
    "# (Azure) OpenAI Function Calling"
   ]
  },
  {
   "cell_type": "markdown",
   "metadata": {},
   "source": [
    "## How does Function Calling works"
   ]
  },
  {
   "cell_type": "markdown",
   "metadata": {},
   "source": [
    "#### Sample Full GPT Response JSON\n",
    "```json\n",
    "{\n",
    "    \"id\": \"chatcmpl-XXXXXXXXXXXXXXX\",\n",
    "    \"choices\": [\n",
    "        {\n",
    "            \"finish_reason\": \"tool_calls\",\n",
    "            \"index\": 0,\n",
    "            \"logprobs\": null,\n",
    "            \"message\": {\n",
    "                \"content\": null,\n",
    "                \"refusal\": null,\n",
    "                \"role\": \"assistant\",\n",
    "                \"audio\": null,\n",
    "                \"function_call\": null,\n",
    "                \"tool_calls\": [\n",
    "                    {\n",
    "                        \"id\": \"call_XXXXXXXXXXXXX\",\n",
    "                        \"function\": {\n",
    "                            \"arguments\": \"{\\\"name\\\":\\\"Jhon Doe\\\"}\",\n",
    "                            \"name\": \"greeting_user\"\n",
    "                        },\n",
    "                        \"type\": \"function\"\n",
    "                    }\n",
    "                ]\n",
    "            },\n",
    "            \"content_filter_results\": {}\n",
    "        }\n",
    "    ],\n",
    "    \"created\": 1732238669,\n",
    "    \"model\": \"gpt-4o-2024-08-06\",\n",
    "    \"object\": \"chat.completion\",\n",
    "    \"service_tier\": null,\n",
    "    \"system_fingerprint\": \"fp_d54531d9eb\",\n",
    "    \"usage\": {\n",
    "        \"completion_tokens\": 16,\n",
    "        \"prompt_tokens\": 82,\n",
    "        \"total_tokens\": 98,\n",
    "        \"completion_tokens_details\": null,\n",
    "        \"prompt_tokens_details\": null\n",
    "    },\n",
    "    \"prompt_filter_results\": [\n",
    "        {\n",
    "            \"prompt_index\": 0,\n",
    "            \"content_filter_results\": {\n",
    "                \"hate\": {\n",
    "                    \"filtered\": false,\n",
    "                    \"severity\": \"safe\"\n",
    "                },\n",
    "                \"jailbreak\": {\n",
    "                    \"filtered\": false,\n",
    "                    \"detected\": false\n",
    "                },\n",
    "                \"self_harm\": {\n",
    "                    \"filtered\": false,\n",
    "                    \"severity\": \"safe\"\n",
    "                },\n",
    "                \"sexual\": {\n",
    "                    \"filtered\": false,\n",
    "                    \"severity\": \"safe\"\n",
    "                },\n",
    "                \"violence\": {\n",
    "                    \"filtered\": false,\n",
    "                    \"severity\": \"safe\"\n",
    "                }\n",
    "            }\n",
    "        }\n",
    "    ]\n",
    "}\n",
    "```"
   ]
  },
  {
   "cell_type": "markdown",
   "metadata": {},
   "source": [
    "### Environment Set Up"
   ]
  },
  {
   "cell_type": "code",
   "execution_count": 36,
   "metadata": {},
   "outputs": [],
   "source": [
    "import os\n",
    "from dotenv import load_dotenv\n",
    "from openai import AzureOpenAI\n",
    "from IPython.display import Markdown\n",
    "\n",
    "load_dotenv()\n",
    "\n",
    "AOAI_ENDPOINT = os.getenv(\"AOAI_ENDPOINT\")\n",
    "AOAI_API_KEY = os.getenv(\"AOAI_API_KEY\")\n",
    "AOAI_API_VERSION = os.getenv(\"AOAI_API_VERSION\")\n",
    "AOAI_DEPLOYMENT = os.getenv(\"AOAI_DEPLOYMENT\")\n",
    "\n",
    "client = AzureOpenAI(\n",
    "  azure_endpoint=AOAI_ENDPOINT, \n",
    "  api_key=AOAI_API_KEY, \n",
    "  api_version=AOAI_API_VERSION, \n",
    ")"
   ]
  },
  {
   "cell_type": "markdown",
   "metadata": {},
   "source": [
    "### API Definition"
   ]
  },
  {
   "cell_type": "markdown",
   "metadata": {},
   "source": [
    "##### Function to Call"
   ]
  },
  {
   "cell_type": "code",
   "execution_count": 37,
   "metadata": {},
   "outputs": [],
   "source": [
    "def greeting_user(name: str) -> str:\n",
    "  print(f\"Hello World!! - {name}\")"
   ]
  },
  {
   "cell_type": "markdown",
   "metadata": {},
   "source": [
    "##### Function Definition Payload"
   ]
  },
  {
   "cell_type": "code",
   "execution_count": 31,
   "metadata": {},
   "outputs": [],
   "source": [
    "greeting_user_definition = {\n",
    "  \"name\": \"greeting_user\",\n",
    "  \"description\": \"Greeting ther user by name. Call this whenever you want to greet the user.\",\n",
    "  \"parameters\": {\n",
    "    \"type\": \"object\",\n",
    "    \"properties\": {\n",
    "      \"name\": {\n",
    "        \"type\": \"string\",\n",
    "        \"description\": \"The name to greet\"\n",
    "      }\n",
    "    },\n",
    "    \"required\": [\"name\"],\n",
    "    \"additionalProperties\": False\n",
    "  }\n",
    "}"
   ]
  },
  {
   "cell_type": "markdown",
   "metadata": {},
   "source": [
    "##### Tools Payload"
   ]
  },
  {
   "cell_type": "code",
   "execution_count": 32,
   "metadata": {},
   "outputs": [],
   "source": [
    "tools = [\n",
    "  {\n",
    "    \"type\": \"function\",\n",
    "    \"function\": greeting_user_definition,\n",
    "  }\n",
    "]"
   ]
  },
  {
   "cell_type": "markdown",
   "metadata": {},
   "source": [
    "##### Messages Payload"
   ]
  },
  {
   "cell_type": "code",
   "execution_count": null,
   "metadata": {},
   "outputs": [],
   "source": [
    "messages = [\n",
    "  {\n",
    "    \"role\": \"system\",\n",
    "    \"content\": \"You are a helpful assistant. Use the supplied tools to assist the user.\"\n",
    "  },\n",
    "  {\n",
    "    \"role\": \"user\",\n",
    "    \"content\": \"Hello!! My name is Jhon Doe.\"\n",
    "  }\n",
    "]"
   ]
  },
  {
   "cell_type": "markdown",
   "metadata": {},
   "source": [
    "##### Call API"
   ]
  },
  {
   "cell_type": "code",
   "execution_count": 7,
   "metadata": {},
   "outputs": [],
   "source": [
    "# Call API\n",
    "response = client.chat.completions.create(\n",
    "  model=AOAI_DEPLOYMENT,\n",
    "  messages=messages,\n",
    "  tools=tools\n",
    ")"
   ]
  },
  {
   "cell_type": "markdown",
   "metadata": {},
   "source": [
    "#### Response\n",
    "If the GPT Model decides to use a Tool, it will be indicated in the API response in the following way:\n",
    "\n",
    "`response.choices[0].message`\n",
    "\n",
    "```json\n",
    "{\n",
    "    \"content\": null,\n",
    "    \"refusal\": null,\n",
    "    \"role\": \"assistant\",\n",
    "    \"audio\": null,\n",
    "    \"function_call\": null,\n",
    "    \"tool_calls\": [\n",
    "        {\n",
    "            \"id\": \"call_L8yIyAnF9rT1U5Rn8LW3sS4p\",\n",
    "            \"function\": {\n",
    "                \"arguments\": \"{\\\"name\\\":\\\"Goku\\\"}\",\n",
    "                \"name\": \"greeting_user\"\n",
    "            },\n",
    "            \"type\": \"function\"\n",
    "        }\n",
    "    ]\n",
    "}\n",
    "```\n",
    "\n",
    "The `tool_calls` property will contain the name of the function to execute and the parameters."
   ]
  },
  {
   "cell_type": "markdown",
   "metadata": {},
   "source": [
    "#### Call the Function"
   ]
  },
  {
   "cell_type": "code",
   "execution_count": 38,
   "metadata": {},
   "outputs": [
    {
     "name": "stdout",
     "output_type": "stream",
     "text": [
      "Hello World!! - Goku\n"
     ]
    }
   ],
   "source": [
    "import json\n",
    "\n",
    "message = response.choices[0].message\n",
    "\n",
    "if len(message.tool_calls) > 0:\n",
    "  tool = message.tool_calls[0]\n",
    "\n",
    "  function_name = tool.function.name\n",
    "  arguments = json.loads(tool.function.arguments)\n",
    "  \n",
    "  function = globals()[function_name]\n",
    "  \n",
    "  function(**arguments)"
   ]
  }
 ],
 "metadata": {
  "kernelspec": {
   "display_name": "venv",
   "language": "python",
   "name": "python3"
  },
  "language_info": {
   "codemirror_mode": {
    "name": "ipython",
    "version": 3
   },
   "file_extension": ".py",
   "mimetype": "text/x-python",
   "name": "python",
   "nbconvert_exporter": "python",
   "pygments_lexer": "ipython3",
   "version": "3.12.7"
  }
 },
 "nbformat": 4,
 "nbformat_minor": 2
}
